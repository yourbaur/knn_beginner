{
 "cells": [
  {
   "cell_type": "markdown",
   "metadata": {},
   "source": [
    "# K-Nearest Neighbor algorithm\n",
    "\n",
    "In this notebook I try make prediction using knn algorithm. Very simple algorithm to use. First of all, we import all needed libraries and take the dataset"
   ]
  },
  {
   "cell_type": "code",
   "execution_count": 62,
   "metadata": {},
   "outputs": [
    {
     "data": {
      "text/html": [
       "<div>\n",
       "<style scoped>\n",
       "    .dataframe tbody tr th:only-of-type {\n",
       "        vertical-align: middle;\n",
       "    }\n",
       "\n",
       "    .dataframe tbody tr th {\n",
       "        vertical-align: top;\n",
       "    }\n",
       "\n",
       "    .dataframe thead th {\n",
       "        text-align: right;\n",
       "    }\n",
       "</style>\n",
       "<table border=\"1\" class=\"dataframe\">\n",
       "  <thead>\n",
       "    <tr style=\"text-align: right;\">\n",
       "      <th></th>\n",
       "      <th>buying</th>\n",
       "      <th>maint</th>\n",
       "      <th>door</th>\n",
       "      <th>persons</th>\n",
       "      <th>lug_boot</th>\n",
       "      <th>safety</th>\n",
       "      <th>class</th>\n",
       "    </tr>\n",
       "  </thead>\n",
       "  <tbody>\n",
       "    <tr>\n",
       "      <th>0</th>\n",
       "      <td>vhigh</td>\n",
       "      <td>vhigh</td>\n",
       "      <td>2</td>\n",
       "      <td>2</td>\n",
       "      <td>small</td>\n",
       "      <td>low</td>\n",
       "      <td>unacc</td>\n",
       "    </tr>\n",
       "    <tr>\n",
       "      <th>1</th>\n",
       "      <td>vhigh</td>\n",
       "      <td>vhigh</td>\n",
       "      <td>2</td>\n",
       "      <td>2</td>\n",
       "      <td>small</td>\n",
       "      <td>med</td>\n",
       "      <td>unacc</td>\n",
       "    </tr>\n",
       "    <tr>\n",
       "      <th>2</th>\n",
       "      <td>vhigh</td>\n",
       "      <td>vhigh</td>\n",
       "      <td>2</td>\n",
       "      <td>2</td>\n",
       "      <td>small</td>\n",
       "      <td>high</td>\n",
       "      <td>unacc</td>\n",
       "    </tr>\n",
       "    <tr>\n",
       "      <th>3</th>\n",
       "      <td>vhigh</td>\n",
       "      <td>vhigh</td>\n",
       "      <td>2</td>\n",
       "      <td>2</td>\n",
       "      <td>med</td>\n",
       "      <td>low</td>\n",
       "      <td>unacc</td>\n",
       "    </tr>\n",
       "    <tr>\n",
       "      <th>4</th>\n",
       "      <td>vhigh</td>\n",
       "      <td>vhigh</td>\n",
       "      <td>2</td>\n",
       "      <td>2</td>\n",
       "      <td>med</td>\n",
       "      <td>med</td>\n",
       "      <td>unacc</td>\n",
       "    </tr>\n",
       "  </tbody>\n",
       "</table>\n",
       "</div>"
      ],
      "text/plain": [
       "  buying  maint door persons lug_boot safety  class\n",
       "0  vhigh  vhigh    2       2    small    low  unacc\n",
       "1  vhigh  vhigh    2       2    small    med  unacc\n",
       "2  vhigh  vhigh    2       2    small   high  unacc\n",
       "3  vhigh  vhigh    2       2      med    low  unacc\n",
       "4  vhigh  vhigh    2       2      med    med  unacc"
      ]
     },
     "execution_count": 62,
     "metadata": {},
     "output_type": "execute_result"
    }
   ],
   "source": [
    "import sklearn\n",
    "from sklearn.utils import shuffle \n",
    "from sklearn.neighbors import KNeighborsClassifier\n",
    "import pandas as pd\n",
    "import numpy as np\n",
    "from sklearn import linear_model, preprocessing \n",
    "from sklearn.model_selection import train_test_split\n",
    "\n",
    "data = pd.read_csv('car.data')\n",
    "\n",
    "data.head()"
   ]
  },
  {
   "cell_type": "markdown",
   "metadata": {},
   "source": [
    "After we encode all the data by numeric value"
   ]
  },
  {
   "cell_type": "code",
   "execution_count": 63,
   "metadata": {},
   "outputs": [
    {
     "name": "stdout",
     "output_type": "stream",
     "text": [
      "[3 3 3 ... 1 1 1]\n"
     ]
    }
   ],
   "source": [
    "le = preprocessing.LabelEncoder()\n",
    "buying = le.fit_transform(list(data['buying']))\n",
    "persons = le.fit_transform(list(data['persons']))\n",
    "doors = le.fit_transform(list(data['door']))\n",
    "maint = le.fit_transform(list(data['maint']))\n",
    "lug_boot = le.fit_transform(list(data['lug_boot']))\n",
    "safety = le.fit_transform(list(data['safety']))\n",
    "car_class = le.fit_transform(list(data['class']))\n",
    "\n",
    "print(buying)"
   ]
  },
  {
   "cell_type": "markdown",
   "metadata": {},
   "source": [
    "Split the data to test and training"
   ]
  },
  {
   "cell_type": "code",
   "execution_count": 64,
   "metadata": {},
   "outputs": [],
   "source": [
    "predict = \"class\"\n",
    "\n",
    "X = list(zip(buying, maint, doors, persons, lug_boot, safety))\n",
    "y = list(car_class)\n",
    "\n",
    "x_train, x_test, y_train, y_test = train_test_split(X, y, test_size = 0.1)"
   ]
  },
  {
   "cell_type": "markdown",
   "metadata": {},
   "source": [
    "Fit the model and check accuracy"
   ]
  },
  {
   "cell_type": "code",
   "execution_count": 65,
   "metadata": {},
   "outputs": [
    {
     "name": "stdout",
     "output_type": "stream",
     "text": [
      "0.861271676300578\n"
     ]
    }
   ],
   "source": [
    "model = KNeighborsClassifier(n_neighbors=5)\n",
    "\n",
    "model.fit(x_train, y_train)\n",
    "acc = model.score(x_test, y_test)\n",
    "print(acc)"
   ]
  },
  {
   "cell_type": "markdown",
   "metadata": {},
   "source": [
    "Check with the actual value our prediction"
   ]
  },
  {
   "cell_type": "code",
   "execution_count": 67,
   "metadata": {},
   "outputs": [
    {
     "name": "stdout",
     "output_type": "stream",
     "text": [
      "Predicted: unacc Actual: vgood\n",
      "Predicted: unacc Actual: unacc\n",
      "Predicted: good Actual: vgood\n",
      "Predicted: good Actual: good\n",
      "Predicted: good Actual: good\n",
      "Predicted: good Actual: good\n",
      "Predicted: unacc Actual: unacc\n",
      "Predicted: good Actual: good\n",
      "Predicted: good Actual: good\n",
      "Predicted: good Actual: good\n",
      "Predicted: good Actual: good\n",
      "Predicted: good Actual: good\n",
      "Predicted: unacc Actual: unacc\n",
      "Predicted: good Actual: good\n",
      "Predicted: unacc Actual: good\n",
      "Predicted: good Actual: good\n",
      "Predicted: good Actual: good\n",
      "Predicted: good Actual: good\n",
      "Predicted: acc Actual: acc\n",
      "Predicted: good Actual: good\n",
      "Predicted: good Actual: good\n",
      "Predicted: good Actual: acc\n",
      "Predicted: unacc Actual: unacc\n",
      "Predicted: good Actual: good\n",
      "Predicted: good Actual: good\n",
      "Predicted: unacc Actual: unacc\n",
      "Predicted: good Actual: good\n",
      "Predicted: good Actual: good\n",
      "Predicted: good Actual: good\n",
      "Predicted: good Actual: good\n",
      "Predicted: unacc Actual: acc\n",
      "Predicted: good Actual: good\n",
      "Predicted: good Actual: good\n",
      "Predicted: good Actual: good\n",
      "Predicted: good Actual: good\n",
      "Predicted: unacc Actual: unacc\n",
      "Predicted: good Actual: good\n",
      "Predicted: good Actual: good\n",
      "Predicted: good Actual: good\n",
      "Predicted: good Actual: good\n",
      "Predicted: good Actual: acc\n",
      "Predicted: good Actual: good\n",
      "Predicted: unacc Actual: unacc\n",
      "Predicted: good Actual: good\n",
      "Predicted: unacc Actual: unacc\n",
      "Predicted: good Actual: good\n",
      "Predicted: vgood Actual: acc\n",
      "Predicted: acc Actual: acc\n",
      "Predicted: good Actual: good\n",
      "Predicted: good Actual: good\n",
      "Predicted: good Actual: good\n",
      "Predicted: good Actual: good\n",
      "Predicted: good Actual: good\n",
      "Predicted: good Actual: good\n",
      "Predicted: good Actual: good\n",
      "Predicted: unacc Actual: unacc\n",
      "Predicted: good Actual: good\n",
      "Predicted: good Actual: good\n",
      "Predicted: unacc Actual: unacc\n",
      "Predicted: unacc Actual: good\n",
      "Predicted: good Actual: good\n",
      "Predicted: good Actual: good\n",
      "Predicted: good Actual: good\n",
      "Predicted: good Actual: unacc\n",
      "Predicted: good Actual: good\n",
      "Predicted: vgood Actual: unacc\n",
      "Predicted: good Actual: good\n",
      "Predicted: unacc Actual: unacc\n",
      "Predicted: good Actual: good\n",
      "Predicted: good Actual: good\n",
      "Predicted: good Actual: good\n",
      "Predicted: good Actual: good\n",
      "Predicted: good Actual: good\n",
      "Predicted: good Actual: good\n",
      "Predicted: good Actual: good\n",
      "Predicted: unacc Actual: unacc\n",
      "Predicted: good Actual: good\n",
      "Predicted: good Actual: good\n",
      "Predicted: unacc Actual: unacc\n",
      "Predicted: unacc Actual: unacc\n",
      "Predicted: unacc Actual: acc\n",
      "Predicted: good Actual: good\n",
      "Predicted: unacc Actual: unacc\n",
      "Predicted: unacc Actual: unacc\n",
      "Predicted: good Actual: good\n",
      "Predicted: good Actual: vgood\n",
      "Predicted: good Actual: good\n",
      "Predicted: acc Actual: vgood\n",
      "Predicted: good Actual: good\n",
      "Predicted: good Actual: good\n",
      "Predicted: unacc Actual: good\n",
      "Predicted: unacc Actual: unacc\n",
      "Predicted: good Actual: unacc\n",
      "Predicted: good Actual: good\n",
      "Predicted: good Actual: good\n",
      "Predicted: good Actual: good\n",
      "Predicted: good Actual: good\n",
      "Predicted: good Actual: good\n",
      "Predicted: good Actual: good\n",
      "Predicted: good Actual: good\n",
      "Predicted: good Actual: good\n",
      "Predicted: good Actual: good\n",
      "Predicted: unacc Actual: unacc\n",
      "Predicted: unacc Actual: unacc\n",
      "Predicted: good Actual: good\n",
      "Predicted: good Actual: good\n",
      "Predicted: good Actual: good\n",
      "Predicted: unacc Actual: unacc\n",
      "Predicted: good Actual: good\n",
      "Predicted: good Actual: unacc\n",
      "Predicted: good Actual: good\n",
      "Predicted: good Actual: good\n",
      "Predicted: good Actual: good\n",
      "Predicted: good Actual: unacc\n",
      "Predicted: good Actual: good\n",
      "Predicted: good Actual: good\n",
      "Predicted: good Actual: good\n",
      "Predicted: good Actual: good\n",
      "Predicted: unacc Actual: acc\n",
      "Predicted: good Actual: good\n",
      "Predicted: good Actual: good\n",
      "Predicted: good Actual: good\n",
      "Predicted: good Actual: good\n",
      "Predicted: good Actual: good\n",
      "Predicted: good Actual: good\n",
      "Predicted: unacc Actual: unacc\n",
      "Predicted: unacc Actual: acc\n",
      "Predicted: good Actual: good\n",
      "Predicted: unacc Actual: vgood\n",
      "Predicted: unacc Actual: acc\n",
      "Predicted: good Actual: good\n",
      "Predicted: good Actual: good\n",
      "Predicted: good Actual: good\n",
      "Predicted: unacc Actual: unacc\n",
      "Predicted: unacc Actual: unacc\n",
      "Predicted: good Actual: good\n",
      "Predicted: unacc Actual: unacc\n",
      "Predicted: good Actual: good\n",
      "Predicted: good Actual: good\n",
      "Predicted: good Actual: good\n",
      "Predicted: good Actual: good\n",
      "Predicted: good Actual: good\n",
      "Predicted: vgood Actual: vgood\n",
      "Predicted: good Actual: good\n",
      "Predicted: unacc Actual: acc\n",
      "Predicted: unacc Actual: good\n",
      "Predicted: acc Actual: acc\n",
      "Predicted: good Actual: good\n",
      "Predicted: good Actual: good\n",
      "Predicted: good Actual: good\n",
      "Predicted: good Actual: good\n",
      "Predicted: good Actual: good\n",
      "Predicted: good Actual: good\n",
      "Predicted: good Actual: good\n",
      "Predicted: good Actual: good\n",
      "Predicted: good Actual: good\n",
      "Predicted: unacc Actual: unacc\n",
      "Predicted: good Actual: good\n",
      "Predicted: good Actual: good\n",
      "Predicted: good Actual: good\n",
      "Predicted: unacc Actual: unacc\n",
      "Predicted: acc Actual: acc\n",
      "Predicted: good Actual: good\n",
      "Predicted: good Actual: good\n",
      "Predicted: unacc Actual: acc\n",
      "Predicted: good Actual: good\n",
      "Predicted: good Actual: good\n",
      "Predicted: good Actual: good\n",
      "Predicted: good Actual: good\n",
      "Predicted: good Actual: good\n",
      "Predicted: good Actual: good\n",
      "Predicted: good Actual: good\n",
      "Predicted: good Actual: good\n"
     ]
    }
   ],
   "source": [
    "predicted = model.predict(x_test)\n",
    "\n",
    "names = ['unacc', 'acc', 'good', 'vgood']\n",
    "\n",
    "for x in range(len(predicted)):\n",
    "    print(\"Predicted:\", names[predicted[x]],'Actual:', names[y_test[x]])"
   ]
  },
  {
   "cell_type": "markdown",
   "metadata": {},
   "source": [
    "## Confusion matrix "
   ]
  },
  {
   "cell_type": "code",
   "execution_count": 79,
   "metadata": {},
   "outputs": [
    {
     "data": {
      "text/plain": [
       "array([[ 26,   0,   4,   1],\n",
       "       [  7,   4,   2,   1],\n",
       "       [  4,   0, 118,   0],\n",
       "       [  2,   1,   2,   1]], dtype=int64)"
      ]
     },
     "execution_count": 79,
     "metadata": {},
     "output_type": "execute_result"
    }
   ],
   "source": [
    "from sklearn import metrics\n",
    "import matplotlib.pyplot as plt\n",
    "import seaborn as sns\n",
    "from matplotlib import style\n",
    "\n",
    "y_pred = predicted\n",
    "cm1 = metrics.confusion_matrix(y_test, y_pred)\n",
    "cm1"
   ]
  },
  {
   "cell_type": "code",
   "execution_count": 71,
   "metadata": {},
   "outputs": [
    {
     "data": {
      "text/plain": [
       "Text(0.5, 257.44, 'Actual label')"
      ]
     },
     "execution_count": 71,
     "metadata": {},
     "output_type": "execute_result"
    },
    {
     "data": {
      "image/png": "[encoded data removed]",
      "text/plain": [
       "<Figure size 432x288 with 2 Axes>"
      ]
     },
     "metadata": {
      "needs_background": "light"
     },
     "output_type": "display_data"
    }
   ],
   "source": [
    "class_names=[0,1] # name  of classes\n",
    "fig, ax = plt.subplots()\n",
    "tick_marks = np.arange(len(names))\n",
    "plt.xticks(tick_marks, names)\n",
    "plt.yticks(tick_marks, names)\n",
    "# create heatmap\n",
    "sns.heatmap(pd.DataFrame(cm1), annot=True, cmap=\"YlGnBu\" ,fmt='g')\n",
    "ax.xaxis.set_label_position(\"top\")\n",
    "plt.tight_layout()\n",
    "plt.title('Confusion matrix', y=1.1)\n",
    "plt.ylabel('Predicted label')\n",
    "plt.xlabel('Actual label')"
   ]
  },
  {
   "cell_type": "markdown",
   "metadata": {},
   "source": [
    "## Visualize data\n",
    "Take a count of each class to make some analysis"
   ]
  },
  {
   "cell_type": "code",
   "execution_count": 194,
   "metadata": {},
   "outputs": [
    {
     "data": {
      "text/html": [
       "<div>\n",
       "<style scoped>\n",
       "    .dataframe tbody tr th:only-of-type {\n",
       "        vertical-align: middle;\n",
       "    }\n",
       "\n",
       "    .dataframe tbody tr th {\n",
       "        vertical-align: top;\n",
       "    }\n",
       "\n",
       "    .dataframe thead th {\n",
       "        text-align: right;\n",
       "    }\n",
       "</style>\n",
       "<table border=\"1\" class=\"dataframe\">\n",
       "  <thead>\n",
       "    <tr style=\"text-align: right;\">\n",
       "      <th></th>\n",
       "      <th>class</th>\n",
       "      <th>count</th>\n",
       "    </tr>\n",
       "  </thead>\n",
       "  <tbody>\n",
       "    <tr>\n",
       "      <th>0</th>\n",
       "      <td>unacc</td>\n",
       "      <td>1210</td>\n",
       "    </tr>\n",
       "    <tr>\n",
       "      <th>1</th>\n",
       "      <td>acc</td>\n",
       "      <td>384</td>\n",
       "    </tr>\n",
       "    <tr>\n",
       "      <th>2</th>\n",
       "      <td>good</td>\n",
       "      <td>69</td>\n",
       "    </tr>\n",
       "    <tr>\n",
       "      <th>3</th>\n",
       "      <td>vgood</td>\n",
       "      <td>65</td>\n",
       "    </tr>\n",
       "  </tbody>\n",
       "</table>\n",
       "</div>"
      ],
      "text/plain": [
       "   class  count\n",
       "0  unacc   1210\n",
       "1    acc    384\n",
       "2   good     69\n",
       "3  vgood     65"
      ]
     },
     "execution_count": 194,
     "metadata": {},
     "output_type": "execute_result"
    }
   ],
   "source": [
    "df = data['class'].value_counts()\n",
    "df = {'class':names, 'count':list(df.values)}\n",
    "df = pd.DataFrame(df)"
   ]
  },
  {
   "cell_type": "code",
   "execution_count": 199,
   "metadata": {},
   "outputs": [],
   "source": [
    "def get_pie(q, value, title):\n",
    "    plt.pie(df[q],\n",
    "        #Data labels are the team names in the dataFrame\n",
    "       labels = df[value],\n",
    "        #Give a tidier angle to ur first data angle\n",
    "        startangle = 90\n",
    "       )\n",
    "    plt.title(title)\n",
    "    plt.tight_layout()"
   ]
  },
  {
   "cell_type": "code",
   "execution_count": 200,
   "metadata": {},
   "outputs": [
    {
     "data": {
      "image/png": "[encoded data removed]",
      "text/plain": [
       "<Figure size 432x288 with 1 Axes>"
      ]
     },
     "metadata": {},
     "output_type": "display_data"
    }
   ],
   "source": [
    "get_pie('count', 'class', \"Proportion of the car quality\")"
   ]
  }
 ],
 "metadata": {
  "kernelspec": {
   "display_name": "Python 3",
   "language": "python",
   "name": "python3"
  },
  "language_info": {
   "codemirror_mode": {
    "name": "ipython",
    "version": 3
   },
   "file_extension": ".py",
   "mimetype": "text/x-python",
   "name": "python",
   "nbconvert_exporter": "python",
   "pygments_lexer": "ipython3",
   "version": "3.7.6"
  }
 },
 "nbformat": 4,
 "nbformat_minor": 4
}
